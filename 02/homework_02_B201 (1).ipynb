{
 "cells": [
  {
   "cell_type": "markdown",
   "metadata": {},
   "source": [
    "# Úkol č. 2 - předzpracování dat a binární klasifikace (do 9. listopadu 23:59)\n",
    "\n",
    "  * V rámci tohoto úkolu se musíte vypořádat s příznaky, které jsou různých typů.\n",
    "  * Před tím, než na nich postavíte predikční model, je třeba je nějakým způsobem převést do číselné reprezentace.\n",
    "    \n",
    "> **Úkoly jsou zadány tak, aby Vám daly prostor pro invenci. Vymyslet _jak přesně_ budete úkol řešit, je důležitou součástí zadání a originalita či nápaditost bude také hodnocena!**\n",
    "\n",
    "## Zdroj dat\n",
    "\n",
    "Budeme se zabývat predikcí přežití pasažérů Titaniku.\n",
    "K dispozici máte trénovací data v souboru **data.csv** a data na vyhodnocení v souboru **evaluation.csv**.\n",
    "\n",
    "#### Seznam příznaků:\n",
    "* survived - zda přežil, 0 = Ne, 1 = Ano, **vysvětlovaná proměnná**, kterou chcete predikovat\n",
    "* pclass - Třída lodního lístku, 1 = první, 2 = druhá, 3 = třetí\n",
    "* name - jméno\n",
    "* sex - pohlaví\n",
    "* age - věk v letech\n",
    "* sibsp\t- počet sourozenců / manželů, manželek na palubě\n",
    "* parch - počet rodičů / dětí na palubě\n",
    "* ticket - číslo lodního lístku\n",
    "* fare - cena lodního lístku\n",
    "* cabin\t- číslo kajuty\n",
    "* embarked\t- místo nalodění, C = Cherbourg, Q = Queenstown, S = Southampton\n",
    "* home.dest - Bydliště/Cíl\n",
    "\n",
    "## Pokyny k vypracování\n",
    "\n",
    "**Základní body zadání**, za jejichž (poctivé) vypracování získáte **8 bodů**:\n",
    "  * V Jupyter notebooku načtěte data ze souboru **data.csv**. Vhodným způsobem si je rozdělte na podmnožiny vhodné k trénování modelu.\n",
    "  * Projděte si jednotlivé příznaky a transformujte je do vhodné podoby pro použití ve vybraném klasifikačním modelu.\n",
    "  * Podle potřeby si můžete vytvářet nové příznaky (na základě existujících), například tedy můžete vytvořit příznak měřící délku jména. Některé příznaky můžete také úplně zahodit.\n",
    "  * Nějakým způsobem se vypořádejte s chybějícími hodnotami.\n",
    "  * Následně si vyberte vhodný klasifikační model z přednášek. Najděte vhodné hyperparametry a určete jeho přesnost (accuracy) na trénovací množině. Také určete jeho přesnost na testovací množině.\n",
    "  * Načtěte vyhodnocovací data ze souboru **evaluation.csv**. Napočítejte predikce pro tyto data (vysvětlovaná proměnná v nich již není). Vytvořte **results.csv** soubor, ve kterém tyto predikce uložíte do dvou sloupců: ID, predikce přežití. Tento soubor nahrajte do repozitáře.\n",
    "  * Ukázka prvních řádků souboru *results.csv*:\n",
    "  \n",
    "```\n",
    "ID,survived\n",
    "1000,0\n",
    "1001,1\n",
    "...\n",
    "```\n",
    "\n",
    "**Další body zadání** za případné další body  (můžete si vybrat, maximum bodů za úkol je každopádně 12 bodů):\n",
    "  * (až +4 body) Aplikujte všechny klasifikační modely z přednášek a určete (na základě přesnosti na validační množině), který je nejlepší. Přesnost tohoto nejlepšího modelu odhadněte pomocí křížové validace. K predikcím na vyhodnocovacích datech využijte tento model.\n",
    "  * (až +4 body) Zkuste použít nějaké (alespoň dvě) netriviální metody doplňování chybějících hodnot u věku. Zaměřte na vliv těchto metod na přesnost predikce výsledného modelu. K predikcím na vyhodnocovacích datech využijte ten přístup, který Vám vyjde jako nejlepší.\n",
    "\n",
    "## Poznámky k odevzdání\n",
    "\n",
    "  * Řiďte se pokyny ze stránky https://courses.fit.cvut.cz/BI-VZD/homeworks/index.html.\n",
    "  * Odevzdejte nejen Jupyter Notebook, ale i _csv_ soubor s predikcemi pro vyhodnocovací data (`results.csv`).\n",
    "  * Opravující Vám může umožnit úkol dodělat či opravit a získat tak další body. První verze je ale důležitá a bude-li odbytá, budete za to penalizováni**"
   ]
  },
  {
   "cell_type": "code",
   "execution_count": 3,
   "metadata": {},
   "outputs": [],
   "source": [
    "import pandas as pd\n",
    "import numpy as np\n",
    "import math"
   ]
  },
  {
   "cell_type": "markdown",
   "metadata": {},
   "source": [
    "# Data"
   ]
  },
  {
   "cell_type": "code",
   "execution_count": 4,
   "metadata": {},
   "outputs": [],
   "source": [
    "data = pd.read_csv('data.csv')"
   ]
  },
  {
   "cell_type": "code",
   "execution_count": 5,
   "metadata": {},
   "outputs": [
    {
     "data": {
      "text/html": [
       "<div>\n",
       "<style scoped>\n",
       "    .dataframe tbody tr th:only-of-type {\n",
       "        vertical-align: middle;\n",
       "    }\n",
       "\n",
       "    .dataframe tbody tr th {\n",
       "        vertical-align: top;\n",
       "    }\n",
       "\n",
       "    .dataframe thead th {\n",
       "        text-align: right;\n",
       "    }\n",
       "</style>\n",
       "<table border=\"1\" class=\"dataframe\">\n",
       "  <thead>\n",
       "    <tr style=\"text-align: right;\">\n",
       "      <th></th>\n",
       "      <th>ID</th>\n",
       "      <th>survived</th>\n",
       "      <th>pclass</th>\n",
       "      <th>name</th>\n",
       "      <th>sex</th>\n",
       "      <th>age</th>\n",
       "      <th>sibsp</th>\n",
       "      <th>parch</th>\n",
       "      <th>ticket</th>\n",
       "      <th>fare</th>\n",
       "      <th>cabin</th>\n",
       "      <th>embarked</th>\n",
       "      <th>home.dest</th>\n",
       "    </tr>\n",
       "  </thead>\n",
       "  <tbody>\n",
       "    <tr>\n",
       "      <th>0</th>\n",
       "      <td>0</td>\n",
       "      <td>1</td>\n",
       "      <td>3</td>\n",
       "      <td>Dorking, Mr. Edward Arthur</td>\n",
       "      <td>male</td>\n",
       "      <td>19.00</td>\n",
       "      <td>0</td>\n",
       "      <td>0</td>\n",
       "      <td>A/5. 10482</td>\n",
       "      <td>8.0500</td>\n",
       "      <td>NaN</td>\n",
       "      <td>S</td>\n",
       "      <td>England Oglesby, IL</td>\n",
       "    </tr>\n",
       "    <tr>\n",
       "      <th>1</th>\n",
       "      <td>1</td>\n",
       "      <td>1</td>\n",
       "      <td>2</td>\n",
       "      <td>Smith, Miss. Marion Elsie</td>\n",
       "      <td>female</td>\n",
       "      <td>40.00</td>\n",
       "      <td>0</td>\n",
       "      <td>0</td>\n",
       "      <td>31418</td>\n",
       "      <td>13.0000</td>\n",
       "      <td>NaN</td>\n",
       "      <td>S</td>\n",
       "      <td>NaN</td>\n",
       "    </tr>\n",
       "    <tr>\n",
       "      <th>2</th>\n",
       "      <td>2</td>\n",
       "      <td>0</td>\n",
       "      <td>3</td>\n",
       "      <td>Hegarty, Miss. Hanora \"Nora\"</td>\n",
       "      <td>female</td>\n",
       "      <td>18.00</td>\n",
       "      <td>0</td>\n",
       "      <td>0</td>\n",
       "      <td>365226</td>\n",
       "      <td>6.7500</td>\n",
       "      <td>NaN</td>\n",
       "      <td>Q</td>\n",
       "      <td>NaN</td>\n",
       "    </tr>\n",
       "    <tr>\n",
       "      <th>3</th>\n",
       "      <td>3</td>\n",
       "      <td>0</td>\n",
       "      <td>3</td>\n",
       "      <td>Sage, Mr. John George</td>\n",
       "      <td>male</td>\n",
       "      <td>NaN</td>\n",
       "      <td>1</td>\n",
       "      <td>9</td>\n",
       "      <td>CA. 2343</td>\n",
       "      <td>69.5500</td>\n",
       "      <td>NaN</td>\n",
       "      <td>S</td>\n",
       "      <td>NaN</td>\n",
       "    </tr>\n",
       "    <tr>\n",
       "      <th>4</th>\n",
       "      <td>4</td>\n",
       "      <td>0</td>\n",
       "      <td>3</td>\n",
       "      <td>Cacic, Miss. Marija</td>\n",
       "      <td>female</td>\n",
       "      <td>30.00</td>\n",
       "      <td>0</td>\n",
       "      <td>0</td>\n",
       "      <td>315084</td>\n",
       "      <td>8.6625</td>\n",
       "      <td>NaN</td>\n",
       "      <td>S</td>\n",
       "      <td>NaN</td>\n",
       "    </tr>\n",
       "    <tr>\n",
       "      <th>5</th>\n",
       "      <td>5</td>\n",
       "      <td>0</td>\n",
       "      <td>1</td>\n",
       "      <td>Taussig, Mr. Emil</td>\n",
       "      <td>male</td>\n",
       "      <td>52.00</td>\n",
       "      <td>1</td>\n",
       "      <td>1</td>\n",
       "      <td>110413</td>\n",
       "      <td>79.6500</td>\n",
       "      <td>E67</td>\n",
       "      <td>S</td>\n",
       "      <td>New York, NY</td>\n",
       "    </tr>\n",
       "    <tr>\n",
       "      <th>6</th>\n",
       "      <td>6</td>\n",
       "      <td>0</td>\n",
       "      <td>3</td>\n",
       "      <td>Flynn, Mr. John</td>\n",
       "      <td>male</td>\n",
       "      <td>NaN</td>\n",
       "      <td>0</td>\n",
       "      <td>0</td>\n",
       "      <td>368323</td>\n",
       "      <td>6.9500</td>\n",
       "      <td>NaN</td>\n",
       "      <td>Q</td>\n",
       "      <td>NaN</td>\n",
       "    </tr>\n",
       "    <tr>\n",
       "      <th>7</th>\n",
       "      <td>7</td>\n",
       "      <td>1</td>\n",
       "      <td>1</td>\n",
       "      <td>Taylor, Mrs. Elmer Zebley (Juliet Cummins Wright)</td>\n",
       "      <td>female</td>\n",
       "      <td>NaN</td>\n",
       "      <td>1</td>\n",
       "      <td>0</td>\n",
       "      <td>19996</td>\n",
       "      <td>52.0000</td>\n",
       "      <td>C126</td>\n",
       "      <td>S</td>\n",
       "      <td>London /  East Orange, NJ</td>\n",
       "    </tr>\n",
       "    <tr>\n",
       "      <th>8</th>\n",
       "      <td>8</td>\n",
       "      <td>0</td>\n",
       "      <td>2</td>\n",
       "      <td>Berriman, Mr. William John</td>\n",
       "      <td>male</td>\n",
       "      <td>23.00</td>\n",
       "      <td>0</td>\n",
       "      <td>0</td>\n",
       "      <td>28425</td>\n",
       "      <td>13.0000</td>\n",
       "      <td>NaN</td>\n",
       "      <td>S</td>\n",
       "      <td>St Ives, Cornwall / Calumet, MI</td>\n",
       "    </tr>\n",
       "    <tr>\n",
       "      <th>9</th>\n",
       "      <td>9</td>\n",
       "      <td>0</td>\n",
       "      <td>2</td>\n",
       "      <td>Abelson, Mr. Samuel</td>\n",
       "      <td>male</td>\n",
       "      <td>30.00</td>\n",
       "      <td>1</td>\n",
       "      <td>0</td>\n",
       "      <td>P/PP 3381</td>\n",
       "      <td>24.0000</td>\n",
       "      <td>NaN</td>\n",
       "      <td>C</td>\n",
       "      <td>Russia New York, NY</td>\n",
       "    </tr>\n",
       "    <tr>\n",
       "      <th>10</th>\n",
       "      <td>10</td>\n",
       "      <td>0</td>\n",
       "      <td>3</td>\n",
       "      <td>Edvardsson, Mr. Gustaf Hjalmar</td>\n",
       "      <td>male</td>\n",
       "      <td>18.00</td>\n",
       "      <td>0</td>\n",
       "      <td>0</td>\n",
       "      <td>349912</td>\n",
       "      <td>7.7750</td>\n",
       "      <td>NaN</td>\n",
       "      <td>S</td>\n",
       "      <td>Tofta, Sweden Joliet, IL</td>\n",
       "    </tr>\n",
       "    <tr>\n",
       "      <th>11</th>\n",
       "      <td>11</td>\n",
       "      <td>0</td>\n",
       "      <td>3</td>\n",
       "      <td>Torber, Mr. Ernst William</td>\n",
       "      <td>male</td>\n",
       "      <td>44.00</td>\n",
       "      <td>0</td>\n",
       "      <td>0</td>\n",
       "      <td>364511</td>\n",
       "      <td>8.0500</td>\n",
       "      <td>NaN</td>\n",
       "      <td>S</td>\n",
       "      <td>NaN</td>\n",
       "    </tr>\n",
       "    <tr>\n",
       "      <th>12</th>\n",
       "      <td>12</td>\n",
       "      <td>0</td>\n",
       "      <td>3</td>\n",
       "      <td>Arnold-Franchi, Mr. Josef</td>\n",
       "      <td>male</td>\n",
       "      <td>25.00</td>\n",
       "      <td>1</td>\n",
       "      <td>0</td>\n",
       "      <td>349237</td>\n",
       "      <td>17.8000</td>\n",
       "      <td>NaN</td>\n",
       "      <td>S</td>\n",
       "      <td>Altdorf, Switzerland</td>\n",
       "    </tr>\n",
       "    <tr>\n",
       "      <th>13</th>\n",
       "      <td>13</td>\n",
       "      <td>0</td>\n",
       "      <td>2</td>\n",
       "      <td>Otter, Mr. Richard</td>\n",
       "      <td>male</td>\n",
       "      <td>39.00</td>\n",
       "      <td>0</td>\n",
       "      <td>0</td>\n",
       "      <td>28213</td>\n",
       "      <td>13.0000</td>\n",
       "      <td>NaN</td>\n",
       "      <td>S</td>\n",
       "      <td>Middleburg Heights, OH</td>\n",
       "    </tr>\n",
       "    <tr>\n",
       "      <th>14</th>\n",
       "      <td>14</td>\n",
       "      <td>0</td>\n",
       "      <td>1</td>\n",
       "      <td>Warren, Mr. Frank Manley</td>\n",
       "      <td>male</td>\n",
       "      <td>64.00</td>\n",
       "      <td>1</td>\n",
       "      <td>0</td>\n",
       "      <td>110813</td>\n",
       "      <td>75.2500</td>\n",
       "      <td>D37</td>\n",
       "      <td>C</td>\n",
       "      <td>Portland, OR</td>\n",
       "    </tr>\n",
       "    <tr>\n",
       "      <th>15</th>\n",
       "      <td>15</td>\n",
       "      <td>0</td>\n",
       "      <td>3</td>\n",
       "      <td>Palsson, Miss. Stina Viola</td>\n",
       "      <td>female</td>\n",
       "      <td>3.00</td>\n",
       "      <td>3</td>\n",
       "      <td>1</td>\n",
       "      <td>349909</td>\n",
       "      <td>21.0750</td>\n",
       "      <td>NaN</td>\n",
       "      <td>S</td>\n",
       "      <td>NaN</td>\n",
       "    </tr>\n",
       "    <tr>\n",
       "      <th>16</th>\n",
       "      <td>16</td>\n",
       "      <td>1</td>\n",
       "      <td>1</td>\n",
       "      <td>Bowen, Miss. Grace Scott</td>\n",
       "      <td>female</td>\n",
       "      <td>45.00</td>\n",
       "      <td>0</td>\n",
       "      <td>0</td>\n",
       "      <td>PC 17608</td>\n",
       "      <td>262.3750</td>\n",
       "      <td>NaN</td>\n",
       "      <td>C</td>\n",
       "      <td>Cooperstown, NY</td>\n",
       "    </tr>\n",
       "    <tr>\n",
       "      <th>17</th>\n",
       "      <td>17</td>\n",
       "      <td>1</td>\n",
       "      <td>2</td>\n",
       "      <td>Hocking, Miss. Ellen \"Nellie\"</td>\n",
       "      <td>female</td>\n",
       "      <td>20.00</td>\n",
       "      <td>2</td>\n",
       "      <td>1</td>\n",
       "      <td>29105</td>\n",
       "      <td>23.0000</td>\n",
       "      <td>NaN</td>\n",
       "      <td>S</td>\n",
       "      <td>Cornwall / Akron, OH</td>\n",
       "    </tr>\n",
       "    <tr>\n",
       "      <th>18</th>\n",
       "      <td>18</td>\n",
       "      <td>0</td>\n",
       "      <td>2</td>\n",
       "      <td>Parkes, Mr. Francis \"Frank\"</td>\n",
       "      <td>male</td>\n",
       "      <td>NaN</td>\n",
       "      <td>0</td>\n",
       "      <td>0</td>\n",
       "      <td>239853</td>\n",
       "      <td>0.0000</td>\n",
       "      <td>NaN</td>\n",
       "      <td>S</td>\n",
       "      <td>Belfast</td>\n",
       "    </tr>\n",
       "    <tr>\n",
       "      <th>19</th>\n",
       "      <td>19</td>\n",
       "      <td>0</td>\n",
       "      <td>3</td>\n",
       "      <td>Niklasson, Mr. Samuel</td>\n",
       "      <td>male</td>\n",
       "      <td>28.00</td>\n",
       "      <td>0</td>\n",
       "      <td>0</td>\n",
       "      <td>363611</td>\n",
       "      <td>8.0500</td>\n",
       "      <td>NaN</td>\n",
       "      <td>S</td>\n",
       "      <td>NaN</td>\n",
       "    </tr>\n",
       "    <tr>\n",
       "      <th>20</th>\n",
       "      <td>20</td>\n",
       "      <td>1</td>\n",
       "      <td>1</td>\n",
       "      <td>Maioni, Miss. Roberta</td>\n",
       "      <td>female</td>\n",
       "      <td>16.00</td>\n",
       "      <td>0</td>\n",
       "      <td>0</td>\n",
       "      <td>110152</td>\n",
       "      <td>86.5000</td>\n",
       "      <td>B79</td>\n",
       "      <td>S</td>\n",
       "      <td>NaN</td>\n",
       "    </tr>\n",
       "    <tr>\n",
       "      <th>21</th>\n",
       "      <td>21</td>\n",
       "      <td>0</td>\n",
       "      <td>3</td>\n",
       "      <td>Kelly, Mr. James</td>\n",
       "      <td>male</td>\n",
       "      <td>34.50</td>\n",
       "      <td>0</td>\n",
       "      <td>0</td>\n",
       "      <td>330911</td>\n",
       "      <td>7.8292</td>\n",
       "      <td>NaN</td>\n",
       "      <td>Q</td>\n",
       "      <td>NaN</td>\n",
       "    </tr>\n",
       "    <tr>\n",
       "      <th>22</th>\n",
       "      <td>22</td>\n",
       "      <td>0</td>\n",
       "      <td>3</td>\n",
       "      <td>Vander Planke, Mrs. Julius (Emelia Maria Vande...</td>\n",
       "      <td>female</td>\n",
       "      <td>31.00</td>\n",
       "      <td>1</td>\n",
       "      <td>0</td>\n",
       "      <td>345763</td>\n",
       "      <td>18.0000</td>\n",
       "      <td>NaN</td>\n",
       "      <td>S</td>\n",
       "      <td>NaN</td>\n",
       "    </tr>\n",
       "    <tr>\n",
       "      <th>23</th>\n",
       "      <td>23</td>\n",
       "      <td>1</td>\n",
       "      <td>2</td>\n",
       "      <td>Quick, Miss. Winifred Vera</td>\n",
       "      <td>female</td>\n",
       "      <td>8.00</td>\n",
       "      <td>1</td>\n",
       "      <td>1</td>\n",
       "      <td>26360</td>\n",
       "      <td>26.0000</td>\n",
       "      <td>NaN</td>\n",
       "      <td>S</td>\n",
       "      <td>Plymouth, Devon / Detroit, MI</td>\n",
       "    </tr>\n",
       "    <tr>\n",
       "      <th>24</th>\n",
       "      <td>24</td>\n",
       "      <td>1</td>\n",
       "      <td>3</td>\n",
       "      <td>Coutts, Mrs. William (Winnie \"Minnie\" Treanor)</td>\n",
       "      <td>female</td>\n",
       "      <td>36.00</td>\n",
       "      <td>0</td>\n",
       "      <td>2</td>\n",
       "      <td>C.A. 37671</td>\n",
       "      <td>15.9000</td>\n",
       "      <td>NaN</td>\n",
       "      <td>S</td>\n",
       "      <td>England Brooklyn, NY</td>\n",
       "    </tr>\n",
       "    <tr>\n",
       "      <th>25</th>\n",
       "      <td>25</td>\n",
       "      <td>0</td>\n",
       "      <td>2</td>\n",
       "      <td>Wheadon, Mr. Edward H</td>\n",
       "      <td>male</td>\n",
       "      <td>66.00</td>\n",
       "      <td>0</td>\n",
       "      <td>0</td>\n",
       "      <td>C.A. 24579</td>\n",
       "      <td>10.5000</td>\n",
       "      <td>NaN</td>\n",
       "      <td>S</td>\n",
       "      <td>Guernsey, England / Edgewood, RI</td>\n",
       "    </tr>\n",
       "    <tr>\n",
       "      <th>26</th>\n",
       "      <td>26</td>\n",
       "      <td>1</td>\n",
       "      <td>3</td>\n",
       "      <td>Goldsmith, Mrs. Frank John (Emily Alice Brown)</td>\n",
       "      <td>female</td>\n",
       "      <td>31.00</td>\n",
       "      <td>1</td>\n",
       "      <td>1</td>\n",
       "      <td>363291</td>\n",
       "      <td>20.5250</td>\n",
       "      <td>NaN</td>\n",
       "      <td>S</td>\n",
       "      <td>Strood, Kent, England Detroit, MI</td>\n",
       "    </tr>\n",
       "    <tr>\n",
       "      <th>27</th>\n",
       "      <td>27</td>\n",
       "      <td>1</td>\n",
       "      <td>2</td>\n",
       "      <td>Hocking, Mrs. Elizabeth (Eliza Needs)</td>\n",
       "      <td>female</td>\n",
       "      <td>54.00</td>\n",
       "      <td>1</td>\n",
       "      <td>3</td>\n",
       "      <td>29105</td>\n",
       "      <td>23.0000</td>\n",
       "      <td>NaN</td>\n",
       "      <td>S</td>\n",
       "      <td>Cornwall / Akron, OH</td>\n",
       "    </tr>\n",
       "    <tr>\n",
       "      <th>28</th>\n",
       "      <td>28</td>\n",
       "      <td>0</td>\n",
       "      <td>3</td>\n",
       "      <td>Danbom, Mr. Ernst Gilbert</td>\n",
       "      <td>male</td>\n",
       "      <td>34.00</td>\n",
       "      <td>1</td>\n",
       "      <td>1</td>\n",
       "      <td>347080</td>\n",
       "      <td>14.4000</td>\n",
       "      <td>NaN</td>\n",
       "      <td>S</td>\n",
       "      <td>Stanton, IA</td>\n",
       "    </tr>\n",
       "    <tr>\n",
       "      <th>29</th>\n",
       "      <td>29</td>\n",
       "      <td>0</td>\n",
       "      <td>3</td>\n",
       "      <td>Sage, Master. Thomas Henry</td>\n",
       "      <td>male</td>\n",
       "      <td>NaN</td>\n",
       "      <td>8</td>\n",
       "      <td>2</td>\n",
       "      <td>CA. 2343</td>\n",
       "      <td>69.5500</td>\n",
       "      <td>NaN</td>\n",
       "      <td>S</td>\n",
       "      <td>NaN</td>\n",
       "    </tr>\n",
       "    <tr>\n",
       "      <th>...</th>\n",
       "      <td>...</td>\n",
       "      <td>...</td>\n",
       "      <td>...</td>\n",
       "      <td>...</td>\n",
       "      <td>...</td>\n",
       "      <td>...</td>\n",
       "      <td>...</td>\n",
       "      <td>...</td>\n",
       "      <td>...</td>\n",
       "      <td>...</td>\n",
       "      <td>...</td>\n",
       "      <td>...</td>\n",
       "      <td>...</td>\n",
       "    </tr>\n",
       "    <tr>\n",
       "      <th>970</th>\n",
       "      <td>970</td>\n",
       "      <td>1</td>\n",
       "      <td>2</td>\n",
       "      <td>Laroche, Miss. Simonne Marie Anne Andree</td>\n",
       "      <td>female</td>\n",
       "      <td>3.00</td>\n",
       "      <td>1</td>\n",
       "      <td>2</td>\n",
       "      <td>SC/Paris 2123</td>\n",
       "      <td>41.5792</td>\n",
       "      <td>NaN</td>\n",
       "      <td>C</td>\n",
       "      <td>Paris / Haiti</td>\n",
       "    </tr>\n",
       "    <tr>\n",
       "      <th>971</th>\n",
       "      <td>971</td>\n",
       "      <td>1</td>\n",
       "      <td>1</td>\n",
       "      <td>Spedden, Mr. Frederic Oakley</td>\n",
       "      <td>male</td>\n",
       "      <td>45.00</td>\n",
       "      <td>1</td>\n",
       "      <td>1</td>\n",
       "      <td>16966</td>\n",
       "      <td>134.5000</td>\n",
       "      <td>E34</td>\n",
       "      <td>C</td>\n",
       "      <td>Tuxedo Park, NY</td>\n",
       "    </tr>\n",
       "    <tr>\n",
       "      <th>972</th>\n",
       "      <td>972</td>\n",
       "      <td>0</td>\n",
       "      <td>3</td>\n",
       "      <td>Toufik, Mr. Nakli</td>\n",
       "      <td>male</td>\n",
       "      <td>NaN</td>\n",
       "      <td>0</td>\n",
       "      <td>0</td>\n",
       "      <td>2641</td>\n",
       "      <td>7.2292</td>\n",
       "      <td>NaN</td>\n",
       "      <td>C</td>\n",
       "      <td>NaN</td>\n",
       "    </tr>\n",
       "    <tr>\n",
       "      <th>973</th>\n",
       "      <td>973</td>\n",
       "      <td>1</td>\n",
       "      <td>3</td>\n",
       "      <td>Moor, Master. Meier</td>\n",
       "      <td>male</td>\n",
       "      <td>6.00</td>\n",
       "      <td>0</td>\n",
       "      <td>1</td>\n",
       "      <td>392096</td>\n",
       "      <td>12.4750</td>\n",
       "      <td>E121</td>\n",
       "      <td>S</td>\n",
       "      <td>NaN</td>\n",
       "    </tr>\n",
       "    <tr>\n",
       "      <th>974</th>\n",
       "      <td>974</td>\n",
       "      <td>0</td>\n",
       "      <td>3</td>\n",
       "      <td>van Billiard, Master. James William</td>\n",
       "      <td>male</td>\n",
       "      <td>NaN</td>\n",
       "      <td>1</td>\n",
       "      <td>1</td>\n",
       "      <td>A/5. 851</td>\n",
       "      <td>14.5000</td>\n",
       "      <td>NaN</td>\n",
       "      <td>S</td>\n",
       "      <td>NaN</td>\n",
       "    </tr>\n",
       "    <tr>\n",
       "      <th>975</th>\n",
       "      <td>975</td>\n",
       "      <td>0</td>\n",
       "      <td>3</td>\n",
       "      <td>Saether, Mr. Simon Sivertsen</td>\n",
       "      <td>male</td>\n",
       "      <td>38.50</td>\n",
       "      <td>0</td>\n",
       "      <td>0</td>\n",
       "      <td>SOTON/O.Q. 3101262</td>\n",
       "      <td>7.2500</td>\n",
       "      <td>NaN</td>\n",
       "      <td>S</td>\n",
       "      <td>NaN</td>\n",
       "    </tr>\n",
       "    <tr>\n",
       "      <th>976</th>\n",
       "      <td>976</td>\n",
       "      <td>1</td>\n",
       "      <td>2</td>\n",
       "      <td>Hold, Mrs. Stephen (Annie Margaret Hill)</td>\n",
       "      <td>female</td>\n",
       "      <td>29.00</td>\n",
       "      <td>1</td>\n",
       "      <td>0</td>\n",
       "      <td>26707</td>\n",
       "      <td>26.0000</td>\n",
       "      <td>NaN</td>\n",
       "      <td>S</td>\n",
       "      <td>England / Sacramento, CA</td>\n",
       "    </tr>\n",
       "    <tr>\n",
       "      <th>977</th>\n",
       "      <td>977</td>\n",
       "      <td>1</td>\n",
       "      <td>2</td>\n",
       "      <td>Brown, Miss. Amelia \"Mildred\"</td>\n",
       "      <td>female</td>\n",
       "      <td>24.00</td>\n",
       "      <td>0</td>\n",
       "      <td>0</td>\n",
       "      <td>248733</td>\n",
       "      <td>13.0000</td>\n",
       "      <td>F33</td>\n",
       "      <td>S</td>\n",
       "      <td>London / Montreal, PQ</td>\n",
       "    </tr>\n",
       "    <tr>\n",
       "      <th>978</th>\n",
       "      <td>978</td>\n",
       "      <td>0</td>\n",
       "      <td>3</td>\n",
       "      <td>Risien, Mrs. Samuel (Emma)</td>\n",
       "      <td>female</td>\n",
       "      <td>NaN</td>\n",
       "      <td>0</td>\n",
       "      <td>0</td>\n",
       "      <td>364498</td>\n",
       "      <td>14.5000</td>\n",
       "      <td>NaN</td>\n",
       "      <td>S</td>\n",
       "      <td>NaN</td>\n",
       "    </tr>\n",
       "    <tr>\n",
       "      <th>979</th>\n",
       "      <td>979</td>\n",
       "      <td>1</td>\n",
       "      <td>1</td>\n",
       "      <td>Peuchen, Major. Arthur Godfrey</td>\n",
       "      <td>male</td>\n",
       "      <td>52.00</td>\n",
       "      <td>0</td>\n",
       "      <td>0</td>\n",
       "      <td>113786</td>\n",
       "      <td>30.5000</td>\n",
       "      <td>C104</td>\n",
       "      <td>S</td>\n",
       "      <td>Toronto, ON</td>\n",
       "    </tr>\n",
       "    <tr>\n",
       "      <th>980</th>\n",
       "      <td>980</td>\n",
       "      <td>0</td>\n",
       "      <td>3</td>\n",
       "      <td>Ilmakangas, Miss. Pieta Sofia</td>\n",
       "      <td>female</td>\n",
       "      <td>25.00</td>\n",
       "      <td>1</td>\n",
       "      <td>0</td>\n",
       "      <td>STON/O2. 3101271</td>\n",
       "      <td>7.9250</td>\n",
       "      <td>NaN</td>\n",
       "      <td>S</td>\n",
       "      <td>NaN</td>\n",
       "    </tr>\n",
       "    <tr>\n",
       "      <th>981</th>\n",
       "      <td>981</td>\n",
       "      <td>0</td>\n",
       "      <td>3</td>\n",
       "      <td>Mardirosian, Mr. Sarkis</td>\n",
       "      <td>male</td>\n",
       "      <td>NaN</td>\n",
       "      <td>0</td>\n",
       "      <td>0</td>\n",
       "      <td>2655</td>\n",
       "      <td>7.2292</td>\n",
       "      <td>F E46</td>\n",
       "      <td>C</td>\n",
       "      <td>NaN</td>\n",
       "    </tr>\n",
       "    <tr>\n",
       "      <th>982</th>\n",
       "      <td>982</td>\n",
       "      <td>1</td>\n",
       "      <td>3</td>\n",
       "      <td>Chip, Mr. Chang</td>\n",
       "      <td>male</td>\n",
       "      <td>32.00</td>\n",
       "      <td>0</td>\n",
       "      <td>0</td>\n",
       "      <td>1601</td>\n",
       "      <td>56.4958</td>\n",
       "      <td>NaN</td>\n",
       "      <td>S</td>\n",
       "      <td>Hong Kong New York, NY</td>\n",
       "    </tr>\n",
       "    <tr>\n",
       "      <th>983</th>\n",
       "      <td>983</td>\n",
       "      <td>0</td>\n",
       "      <td>3</td>\n",
       "      <td>Johnson, Mr. William Cahoone Jr</td>\n",
       "      <td>male</td>\n",
       "      <td>19.00</td>\n",
       "      <td>0</td>\n",
       "      <td>0</td>\n",
       "      <td>LINE</td>\n",
       "      <td>0.0000</td>\n",
       "      <td>NaN</td>\n",
       "      <td>S</td>\n",
       "      <td>NaN</td>\n",
       "    </tr>\n",
       "    <tr>\n",
       "      <th>984</th>\n",
       "      <td>984</td>\n",
       "      <td>0</td>\n",
       "      <td>1</td>\n",
       "      <td>McCarthy, Mr. Timothy J</td>\n",
       "      <td>male</td>\n",
       "      <td>54.00</td>\n",
       "      <td>0</td>\n",
       "      <td>0</td>\n",
       "      <td>17463</td>\n",
       "      <td>51.8625</td>\n",
       "      <td>E46</td>\n",
       "      <td>S</td>\n",
       "      <td>Dorchester, MA</td>\n",
       "    </tr>\n",
       "    <tr>\n",
       "      <th>985</th>\n",
       "      <td>985</td>\n",
       "      <td>1</td>\n",
       "      <td>3</td>\n",
       "      <td>Ohman, Miss. Velin</td>\n",
       "      <td>female</td>\n",
       "      <td>22.00</td>\n",
       "      <td>0</td>\n",
       "      <td>0</td>\n",
       "      <td>347085</td>\n",
       "      <td>7.7750</td>\n",
       "      <td>NaN</td>\n",
       "      <td>S</td>\n",
       "      <td>NaN</td>\n",
       "    </tr>\n",
       "    <tr>\n",
       "      <th>986</th>\n",
       "      <td>986</td>\n",
       "      <td>1</td>\n",
       "      <td>1</td>\n",
       "      <td>Cumings, Mrs. John Bradley (Florence Briggs Th...</td>\n",
       "      <td>female</td>\n",
       "      <td>38.00</td>\n",
       "      <td>1</td>\n",
       "      <td>0</td>\n",
       "      <td>PC 17599</td>\n",
       "      <td>71.2833</td>\n",
       "      <td>C85</td>\n",
       "      <td>C</td>\n",
       "      <td>New York, NY</td>\n",
       "    </tr>\n",
       "    <tr>\n",
       "      <th>987</th>\n",
       "      <td>987</td>\n",
       "      <td>1</td>\n",
       "      <td>1</td>\n",
       "      <td>Rheims, Mr. George Alexander Lucien</td>\n",
       "      <td>male</td>\n",
       "      <td>NaN</td>\n",
       "      <td>0</td>\n",
       "      <td>0</td>\n",
       "      <td>PC 17607</td>\n",
       "      <td>39.6000</td>\n",
       "      <td>NaN</td>\n",
       "      <td>S</td>\n",
       "      <td>Paris /  New York, NY</td>\n",
       "    </tr>\n",
       "    <tr>\n",
       "      <th>988</th>\n",
       "      <td>988</td>\n",
       "      <td>0</td>\n",
       "      <td>2</td>\n",
       "      <td>Schmidt, Mr. August</td>\n",
       "      <td>male</td>\n",
       "      <td>26.00</td>\n",
       "      <td>0</td>\n",
       "      <td>0</td>\n",
       "      <td>248659</td>\n",
       "      <td>13.0000</td>\n",
       "      <td>NaN</td>\n",
       "      <td>S</td>\n",
       "      <td>Newark, NJ</td>\n",
       "    </tr>\n",
       "    <tr>\n",
       "      <th>989</th>\n",
       "      <td>989</td>\n",
       "      <td>0</td>\n",
       "      <td>3</td>\n",
       "      <td>Shellard, Mr. Frederick William</td>\n",
       "      <td>male</td>\n",
       "      <td>NaN</td>\n",
       "      <td>0</td>\n",
       "      <td>0</td>\n",
       "      <td>C.A. 6212</td>\n",
       "      <td>15.1000</td>\n",
       "      <td>NaN</td>\n",
       "      <td>S</td>\n",
       "      <td>NaN</td>\n",
       "    </tr>\n",
       "    <tr>\n",
       "      <th>990</th>\n",
       "      <td>990</td>\n",
       "      <td>1</td>\n",
       "      <td>3</td>\n",
       "      <td>Hirvonen, Miss. Hildur E</td>\n",
       "      <td>female</td>\n",
       "      <td>2.00</td>\n",
       "      <td>0</td>\n",
       "      <td>1</td>\n",
       "      <td>3101298</td>\n",
       "      <td>12.2875</td>\n",
       "      <td>NaN</td>\n",
       "      <td>S</td>\n",
       "      <td>NaN</td>\n",
       "    </tr>\n",
       "    <tr>\n",
       "      <th>991</th>\n",
       "      <td>991</td>\n",
       "      <td>1</td>\n",
       "      <td>3</td>\n",
       "      <td>Baclini, Miss. Helene Barbara</td>\n",
       "      <td>female</td>\n",
       "      <td>0.75</td>\n",
       "      <td>2</td>\n",
       "      <td>1</td>\n",
       "      <td>2666</td>\n",
       "      <td>19.2583</td>\n",
       "      <td>NaN</td>\n",
       "      <td>C</td>\n",
       "      <td>Syria New York, NY</td>\n",
       "    </tr>\n",
       "    <tr>\n",
       "      <th>992</th>\n",
       "      <td>992</td>\n",
       "      <td>1</td>\n",
       "      <td>2</td>\n",
       "      <td>Silven, Miss. Lyyli Karoliina</td>\n",
       "      <td>female</td>\n",
       "      <td>18.00</td>\n",
       "      <td>0</td>\n",
       "      <td>2</td>\n",
       "      <td>250652</td>\n",
       "      <td>13.0000</td>\n",
       "      <td>NaN</td>\n",
       "      <td>S</td>\n",
       "      <td>Finland / Minneapolis, MN</td>\n",
       "    </tr>\n",
       "    <tr>\n",
       "      <th>993</th>\n",
       "      <td>993</td>\n",
       "      <td>1</td>\n",
       "      <td>3</td>\n",
       "      <td>Buckley, Mr. Daniel</td>\n",
       "      <td>male</td>\n",
       "      <td>21.00</td>\n",
       "      <td>0</td>\n",
       "      <td>0</td>\n",
       "      <td>330920</td>\n",
       "      <td>7.8208</td>\n",
       "      <td>NaN</td>\n",
       "      <td>Q</td>\n",
       "      <td>Kingwilliamstown, Co Cork, Ireland New York, NY</td>\n",
       "    </tr>\n",
       "    <tr>\n",
       "      <th>994</th>\n",
       "      <td>994</td>\n",
       "      <td>0</td>\n",
       "      <td>1</td>\n",
       "      <td>Robbins, Mr. Victor</td>\n",
       "      <td>male</td>\n",
       "      <td>NaN</td>\n",
       "      <td>0</td>\n",
       "      <td>0</td>\n",
       "      <td>PC 17757</td>\n",
       "      <td>227.5250</td>\n",
       "      <td>NaN</td>\n",
       "      <td>C</td>\n",
       "      <td>NaN</td>\n",
       "    </tr>\n",
       "    <tr>\n",
       "      <th>995</th>\n",
       "      <td>995</td>\n",
       "      <td>0</td>\n",
       "      <td>3</td>\n",
       "      <td>Sdycoff, Mr. Todor</td>\n",
       "      <td>male</td>\n",
       "      <td>NaN</td>\n",
       "      <td>0</td>\n",
       "      <td>0</td>\n",
       "      <td>349222</td>\n",
       "      <td>7.8958</td>\n",
       "      <td>NaN</td>\n",
       "      <td>S</td>\n",
       "      <td>NaN</td>\n",
       "    </tr>\n",
       "    <tr>\n",
       "      <th>996</th>\n",
       "      <td>996</td>\n",
       "      <td>1</td>\n",
       "      <td>3</td>\n",
       "      <td>Finoli, Mr. Luigi</td>\n",
       "      <td>male</td>\n",
       "      <td>NaN</td>\n",
       "      <td>0</td>\n",
       "      <td>0</td>\n",
       "      <td>SOTON/O.Q. 3101308</td>\n",
       "      <td>7.0500</td>\n",
       "      <td>NaN</td>\n",
       "      <td>S</td>\n",
       "      <td>Italy Philadelphia, PA</td>\n",
       "    </tr>\n",
       "    <tr>\n",
       "      <th>997</th>\n",
       "      <td>997</td>\n",
       "      <td>0</td>\n",
       "      <td>3</td>\n",
       "      <td>Danbom, Mrs. Ernst Gilbert (Anna Sigrid Maria ...</td>\n",
       "      <td>female</td>\n",
       "      <td>28.00</td>\n",
       "      <td>1</td>\n",
       "      <td>1</td>\n",
       "      <td>347080</td>\n",
       "      <td>14.4000</td>\n",
       "      <td>NaN</td>\n",
       "      <td>S</td>\n",
       "      <td>Stanton, IA</td>\n",
       "    </tr>\n",
       "    <tr>\n",
       "      <th>998</th>\n",
       "      <td>998</td>\n",
       "      <td>0</td>\n",
       "      <td>3</td>\n",
       "      <td>Sivic, Mr. Husein</td>\n",
       "      <td>male</td>\n",
       "      <td>40.00</td>\n",
       "      <td>0</td>\n",
       "      <td>0</td>\n",
       "      <td>349251</td>\n",
       "      <td>7.8958</td>\n",
       "      <td>NaN</td>\n",
       "      <td>S</td>\n",
       "      <td>NaN</td>\n",
       "    </tr>\n",
       "    <tr>\n",
       "      <th>999</th>\n",
       "      <td>999</td>\n",
       "      <td>0</td>\n",
       "      <td>3</td>\n",
       "      <td>Jonsson, Mr. Nils Hilding</td>\n",
       "      <td>male</td>\n",
       "      <td>27.00</td>\n",
       "      <td>0</td>\n",
       "      <td>0</td>\n",
       "      <td>350408</td>\n",
       "      <td>7.8542</td>\n",
       "      <td>NaN</td>\n",
       "      <td>S</td>\n",
       "      <td>NaN</td>\n",
       "    </tr>\n",
       "  </tbody>\n",
       "</table>\n",
       "<p>1000 rows × 13 columns</p>\n",
       "</div>"
      ],
      "text/plain": [
       "      ID  survived  pclass                                               name  \\\n",
       "0      0         1       3                         Dorking, Mr. Edward Arthur   \n",
       "1      1         1       2                          Smith, Miss. Marion Elsie   \n",
       "2      2         0       3                       Hegarty, Miss. Hanora \"Nora\"   \n",
       "3      3         0       3                              Sage, Mr. John George   \n",
       "4      4         0       3                                Cacic, Miss. Marija   \n",
       "5      5         0       1                                  Taussig, Mr. Emil   \n",
       "6      6         0       3                                    Flynn, Mr. John   \n",
       "7      7         1       1  Taylor, Mrs. Elmer Zebley (Juliet Cummins Wright)   \n",
       "8      8         0       2                         Berriman, Mr. William John   \n",
       "9      9         0       2                                Abelson, Mr. Samuel   \n",
       "10    10         0       3                     Edvardsson, Mr. Gustaf Hjalmar   \n",
       "11    11         0       3                          Torber, Mr. Ernst William   \n",
       "12    12         0       3                          Arnold-Franchi, Mr. Josef   \n",
       "13    13         0       2                                 Otter, Mr. Richard   \n",
       "14    14         0       1                           Warren, Mr. Frank Manley   \n",
       "15    15         0       3                         Palsson, Miss. Stina Viola   \n",
       "16    16         1       1                           Bowen, Miss. Grace Scott   \n",
       "17    17         1       2                      Hocking, Miss. Ellen \"Nellie\"   \n",
       "18    18         0       2                        Parkes, Mr. Francis \"Frank\"   \n",
       "19    19         0       3                              Niklasson, Mr. Samuel   \n",
       "20    20         1       1                              Maioni, Miss. Roberta   \n",
       "21    21         0       3                                   Kelly, Mr. James   \n",
       "22    22         0       3  Vander Planke, Mrs. Julius (Emelia Maria Vande...   \n",
       "23    23         1       2                         Quick, Miss. Winifred Vera   \n",
       "24    24         1       3     Coutts, Mrs. William (Winnie \"Minnie\" Treanor)   \n",
       "25    25         0       2                              Wheadon, Mr. Edward H   \n",
       "26    26         1       3     Goldsmith, Mrs. Frank John (Emily Alice Brown)   \n",
       "27    27         1       2              Hocking, Mrs. Elizabeth (Eliza Needs)   \n",
       "28    28         0       3                          Danbom, Mr. Ernst Gilbert   \n",
       "29    29         0       3                         Sage, Master. Thomas Henry   \n",
       "..   ...       ...     ...                                                ...   \n",
       "970  970         1       2           Laroche, Miss. Simonne Marie Anne Andree   \n",
       "971  971         1       1                       Spedden, Mr. Frederic Oakley   \n",
       "972  972         0       3                                  Toufik, Mr. Nakli   \n",
       "973  973         1       3                                Moor, Master. Meier   \n",
       "974  974         0       3                van Billiard, Master. James William   \n",
       "975  975         0       3                       Saether, Mr. Simon Sivertsen   \n",
       "976  976         1       2           Hold, Mrs. Stephen (Annie Margaret Hill)   \n",
       "977  977         1       2                      Brown, Miss. Amelia \"Mildred\"   \n",
       "978  978         0       3                         Risien, Mrs. Samuel (Emma)   \n",
       "979  979         1       1                     Peuchen, Major. Arthur Godfrey   \n",
       "980  980         0       3                      Ilmakangas, Miss. Pieta Sofia   \n",
       "981  981         0       3                            Mardirosian, Mr. Sarkis   \n",
       "982  982         1       3                                    Chip, Mr. Chang   \n",
       "983  983         0       3                    Johnson, Mr. William Cahoone Jr   \n",
       "984  984         0       1                            McCarthy, Mr. Timothy J   \n",
       "985  985         1       3                                 Ohman, Miss. Velin   \n",
       "986  986         1       1  Cumings, Mrs. John Bradley (Florence Briggs Th...   \n",
       "987  987         1       1                Rheims, Mr. George Alexander Lucien   \n",
       "988  988         0       2                                Schmidt, Mr. August   \n",
       "989  989         0       3                    Shellard, Mr. Frederick William   \n",
       "990  990         1       3                           Hirvonen, Miss. Hildur E   \n",
       "991  991         1       3                      Baclini, Miss. Helene Barbara   \n",
       "992  992         1       2                      Silven, Miss. Lyyli Karoliina   \n",
       "993  993         1       3                                Buckley, Mr. Daniel   \n",
       "994  994         0       1                                Robbins, Mr. Victor   \n",
       "995  995         0       3                                 Sdycoff, Mr. Todor   \n",
       "996  996         1       3                                  Finoli, Mr. Luigi   \n",
       "997  997         0       3  Danbom, Mrs. Ernst Gilbert (Anna Sigrid Maria ...   \n",
       "998  998         0       3                                  Sivic, Mr. Husein   \n",
       "999  999         0       3                          Jonsson, Mr. Nils Hilding   \n",
       "\n",
       "        sex    age  sibsp  parch              ticket      fare  cabin  \\\n",
       "0      male  19.00      0      0          A/5. 10482    8.0500    NaN   \n",
       "1    female  40.00      0      0               31418   13.0000    NaN   \n",
       "2    female  18.00      0      0              365226    6.7500    NaN   \n",
       "3      male    NaN      1      9            CA. 2343   69.5500    NaN   \n",
       "4    female  30.00      0      0              315084    8.6625    NaN   \n",
       "5      male  52.00      1      1              110413   79.6500    E67   \n",
       "6      male    NaN      0      0              368323    6.9500    NaN   \n",
       "7    female    NaN      1      0               19996   52.0000   C126   \n",
       "8      male  23.00      0      0               28425   13.0000    NaN   \n",
       "9      male  30.00      1      0           P/PP 3381   24.0000    NaN   \n",
       "10     male  18.00      0      0              349912    7.7750    NaN   \n",
       "11     male  44.00      0      0              364511    8.0500    NaN   \n",
       "12     male  25.00      1      0              349237   17.8000    NaN   \n",
       "13     male  39.00      0      0               28213   13.0000    NaN   \n",
       "14     male  64.00      1      0              110813   75.2500    D37   \n",
       "15   female   3.00      3      1              349909   21.0750    NaN   \n",
       "16   female  45.00      0      0            PC 17608  262.3750    NaN   \n",
       "17   female  20.00      2      1               29105   23.0000    NaN   \n",
       "18     male    NaN      0      0              239853    0.0000    NaN   \n",
       "19     male  28.00      0      0              363611    8.0500    NaN   \n",
       "20   female  16.00      0      0              110152   86.5000    B79   \n",
       "21     male  34.50      0      0              330911    7.8292    NaN   \n",
       "22   female  31.00      1      0              345763   18.0000    NaN   \n",
       "23   female   8.00      1      1               26360   26.0000    NaN   \n",
       "24   female  36.00      0      2          C.A. 37671   15.9000    NaN   \n",
       "25     male  66.00      0      0          C.A. 24579   10.5000    NaN   \n",
       "26   female  31.00      1      1              363291   20.5250    NaN   \n",
       "27   female  54.00      1      3               29105   23.0000    NaN   \n",
       "28     male  34.00      1      1              347080   14.4000    NaN   \n",
       "29     male    NaN      8      2            CA. 2343   69.5500    NaN   \n",
       "..      ...    ...    ...    ...                 ...       ...    ...   \n",
       "970  female   3.00      1      2       SC/Paris 2123   41.5792    NaN   \n",
       "971    male  45.00      1      1               16966  134.5000    E34   \n",
       "972    male    NaN      0      0                2641    7.2292    NaN   \n",
       "973    male   6.00      0      1              392096   12.4750   E121   \n",
       "974    male    NaN      1      1            A/5. 851   14.5000    NaN   \n",
       "975    male  38.50      0      0  SOTON/O.Q. 3101262    7.2500    NaN   \n",
       "976  female  29.00      1      0               26707   26.0000    NaN   \n",
       "977  female  24.00      0      0              248733   13.0000    F33   \n",
       "978  female    NaN      0      0              364498   14.5000    NaN   \n",
       "979    male  52.00      0      0              113786   30.5000   C104   \n",
       "980  female  25.00      1      0    STON/O2. 3101271    7.9250    NaN   \n",
       "981    male    NaN      0      0                2655    7.2292  F E46   \n",
       "982    male  32.00      0      0                1601   56.4958    NaN   \n",
       "983    male  19.00      0      0                LINE    0.0000    NaN   \n",
       "984    male  54.00      0      0               17463   51.8625    E46   \n",
       "985  female  22.00      0      0              347085    7.7750    NaN   \n",
       "986  female  38.00      1      0            PC 17599   71.2833    C85   \n",
       "987    male    NaN      0      0            PC 17607   39.6000    NaN   \n",
       "988    male  26.00      0      0              248659   13.0000    NaN   \n",
       "989    male    NaN      0      0           C.A. 6212   15.1000    NaN   \n",
       "990  female   2.00      0      1             3101298   12.2875    NaN   \n",
       "991  female   0.75      2      1                2666   19.2583    NaN   \n",
       "992  female  18.00      0      2              250652   13.0000    NaN   \n",
       "993    male  21.00      0      0              330920    7.8208    NaN   \n",
       "994    male    NaN      0      0            PC 17757  227.5250    NaN   \n",
       "995    male    NaN      0      0              349222    7.8958    NaN   \n",
       "996    male    NaN      0      0  SOTON/O.Q. 3101308    7.0500    NaN   \n",
       "997  female  28.00      1      1              347080   14.4000    NaN   \n",
       "998    male  40.00      0      0              349251    7.8958    NaN   \n",
       "999    male  27.00      0      0              350408    7.8542    NaN   \n",
       "\n",
       "    embarked                                        home.dest  \n",
       "0          S                              England Oglesby, IL  \n",
       "1          S                                              NaN  \n",
       "2          Q                                              NaN  \n",
       "3          S                                              NaN  \n",
       "4          S                                              NaN  \n",
       "5          S                                     New York, NY  \n",
       "6          Q                                              NaN  \n",
       "7          S                        London /  East Orange, NJ  \n",
       "8          S                  St Ives, Cornwall / Calumet, MI  \n",
       "9          C                              Russia New York, NY  \n",
       "10         S                         Tofta, Sweden Joliet, IL  \n",
       "11         S                                              NaN  \n",
       "12         S                             Altdorf, Switzerland  \n",
       "13         S                           Middleburg Heights, OH  \n",
       "14         C                                     Portland, OR  \n",
       "15         S                                              NaN  \n",
       "16         C                                  Cooperstown, NY  \n",
       "17         S                             Cornwall / Akron, OH  \n",
       "18         S                                          Belfast  \n",
       "19         S                                              NaN  \n",
       "20         S                                              NaN  \n",
       "21         Q                                              NaN  \n",
       "22         S                                              NaN  \n",
       "23         S                    Plymouth, Devon / Detroit, MI  \n",
       "24         S                             England Brooklyn, NY  \n",
       "25         S                 Guernsey, England / Edgewood, RI  \n",
       "26         S                Strood, Kent, England Detroit, MI  \n",
       "27         S                             Cornwall / Akron, OH  \n",
       "28         S                                      Stanton, IA  \n",
       "29         S                                              NaN  \n",
       "..       ...                                              ...  \n",
       "970        C                                    Paris / Haiti  \n",
       "971        C                                  Tuxedo Park, NY  \n",
       "972        C                                              NaN  \n",
       "973        S                                              NaN  \n",
       "974        S                                              NaN  \n",
       "975        S                                              NaN  \n",
       "976        S                         England / Sacramento, CA  \n",
       "977        S                            London / Montreal, PQ  \n",
       "978        S                                              NaN  \n",
       "979        S                                      Toronto, ON  \n",
       "980        S                                              NaN  \n",
       "981        C                                              NaN  \n",
       "982        S                           Hong Kong New York, NY  \n",
       "983        S                                              NaN  \n",
       "984        S                                   Dorchester, MA  \n",
       "985        S                                              NaN  \n",
       "986        C                                     New York, NY  \n",
       "987        S                            Paris /  New York, NY  \n",
       "988        S                                       Newark, NJ  \n",
       "989        S                                              NaN  \n",
       "990        S                                              NaN  \n",
       "991        C                               Syria New York, NY  \n",
       "992        S                        Finland / Minneapolis, MN  \n",
       "993        Q  Kingwilliamstown, Co Cork, Ireland New York, NY  \n",
       "994        C                                              NaN  \n",
       "995        S                                              NaN  \n",
       "996        S                           Italy Philadelphia, PA  \n",
       "997        S                                      Stanton, IA  \n",
       "998        S                                              NaN  \n",
       "999        S                                              NaN  \n",
       "\n",
       "[1000 rows x 13 columns]"
      ]
     },
     "execution_count": 5,
     "metadata": {},
     "output_type": "execute_result"
    }
   ],
   "source": [
    "data"
   ]
  },
  {
   "cell_type": "code",
   "execution_count": 58,
   "metadata": {},
   "outputs": [
    {
     "name": "stdout",
     "output_type": "stream",
     "text": [
      "<class 'pandas.core.frame.DataFrame'>\n",
      "RangeIndex: 1000 entries, 0 to 999\n",
      "Data columns (total 13 columns):\n",
      "ID           1000 non-null int64\n",
      "survived     1000 non-null int64\n",
      "pclass       1000 non-null int64\n",
      "name         1000 non-null object\n",
      "sex          1000 non-null object\n",
      "age          797 non-null float64\n",
      "sibsp        1000 non-null int64\n",
      "parch        1000 non-null int64\n",
      "ticket       1000 non-null object\n",
      "fare         1000 non-null float64\n",
      "cabin        226 non-null object\n",
      "embarked     998 non-null object\n",
      "home.dest    554 non-null object\n",
      "dtypes: float64(2), int64(5), object(6)\n",
      "memory usage: 101.6+ KB\n"
     ]
    },
    {
     "data": {
      "text/plain": [
       "None"
      ]
     },
     "metadata": {},
     "output_type": "display_data"
    }
   ],
   "source": [
    "display(data.info())"
   ]
  },
  {
   "cell_type": "code",
   "execution_count": 59,
   "metadata": {},
   "outputs": [
    {
     "data": {
      "text/plain": [
       "ID             0\n",
       "survived       0\n",
       "pclass         0\n",
       "name           0\n",
       "sex            0\n",
       "age          203\n",
       "sibsp          0\n",
       "parch          0\n",
       "ticket         0\n",
       "fare           0\n",
       "cabin        774\n",
       "embarked       2\n",
       "home.dest    446\n",
       "dtype: int64"
      ]
     },
     "execution_count": 59,
     "metadata": {},
     "output_type": "execute_result"
    }
   ],
   "source": [
    "data.isnull().sum(axis=0)"
   ]
  },
  {
   "cell_type": "code",
   "execution_count": 60,
   "metadata": {},
   "outputs": [
    {
     "data": {
      "text/plain": [
       "ID           1000\n",
       "survived        2\n",
       "pclass          3\n",
       "name          999\n",
       "sex             2\n",
       "age            93\n",
       "sibsp           7\n",
       "parch           8\n",
       "ticket        740\n",
       "fare          248\n",
       "cabin         156\n",
       "embarked        3\n",
       "home.dest     308\n",
       "dtype: int64"
      ]
     },
     "metadata": {},
     "output_type": "display_data"
    }
   ],
   "source": [
    "display(data.nunique())"
   ]
  },
  {
   "cell_type": "code",
   "execution_count": 61,
   "metadata": {},
   "outputs": [],
   "source": [
    "data1 = data.copy()"
   ]
  },
  {
   "cell_type": "markdown",
   "metadata": {},
   "source": [
    "Vzhledem k tomu, že strom pracuje s číselnými hodnotami, tak je potřeba poupravit příznak s pohlavím, ten upravíme tak, že ho převedeme na categorii a následně uložíme jeho kód ###\n",
    "male -> 0 a female -> 1"
   ]
  },
  {
   "cell_type": "code",
   "execution_count": 62,
   "metadata": {},
   "outputs": [],
   "source": [
    "data1['sex'] = data1['sex'].astype('category').cat.codes"
   ]
  },
  {
   "cell_type": "code",
   "execution_count": 63,
   "metadata": {},
   "outputs": [],
   "source": [
    "data2 = data1.copy()"
   ]
  },
  {
   "cell_type": "markdown",
   "metadata": {},
   "source": [
    "Cabin udava cislo kajuty, ale je zde obsazena i informace o palube, ktera je pro nas podle me vice uzitecna, proto si ponechame jen tuto informaci a nasledne ji take zakodujeme, jako jsme to udelali s pohlavim"
   ]
  },
  {
   "cell_type": "code",
   "execution_count": 64,
   "metadata": {},
   "outputs": [],
   "source": [
    "data2['cabin'] = data2['cabin'].str.slice(stop=1)"
   ]
  },
  {
   "cell_type": "code",
   "execution_count": 65,
   "metadata": {},
   "outputs": [],
   "source": [
    "data2['cabin'] = data2['cabin'].astype('category').cat.codes"
   ]
  },
  {
   "cell_type": "code",
   "execution_count": 66,
   "metadata": {},
   "outputs": [
    {
     "data": {
      "text/plain": [
       "ID             0\n",
       "survived       0\n",
       "pclass         0\n",
       "name           0\n",
       "sex            0\n",
       "age          203\n",
       "sibsp          0\n",
       "parch          0\n",
       "ticket         0\n",
       "fare           0\n",
       "cabin          0\n",
       "embarked       2\n",
       "home.dest    446\n",
       "dtype: int64"
      ]
     },
     "execution_count": 66,
     "metadata": {},
     "output_type": "execute_result"
    }
   ],
   "source": [
    "data2.isnull().sum(axis=0)"
   ]
  },
  {
   "cell_type": "markdown",
   "metadata": {},
   "source": [
    "# chybejici hodnoty"
   ]
  },
  {
   "cell_type": "markdown",
   "metadata": {},
   "source": [
    "potrebujeme doplnit jen hodnoty, ktere se tykaji veku, jelikoz ostatni priznaky nebudeme vyuzivat"
   ]
  },
  {
   "cell_type": "markdown",
   "metadata": {},
   "source": [
    "Hodnoty bych doplnil tak, ze bych nejdrive vzal prumer pro jendotliva pohlavi, v kazde tride a zda prezila nebo ne, a podle tohoto bych chybejici data doplnil.\n",
    "Rozhodne by se zde nabizela i metoda nejblizsich sousedu."
   ]
  },
  {
   "cell_type": "markdown",
   "metadata": {},
   "source": [
    "Nan prepíšeme -1, rozhodl jsem se tak, protože kdybych se snazil chybející hodnoty nejak doplnit, tak zde vytvořím informační šum, takhle je naprosto jasné, že příznak neznáme, tudíž strom tolik neovlivní"
   ]
  },
  {
   "cell_type": "code",
   "execution_count": 11,
   "metadata": {},
   "outputs": [],
   "source": [
    "data2 = data2.replace(np.nan, -1)"
   ]
  },
  {
   "cell_type": "markdown",
   "metadata": {},
   "source": [
    "Data rozdelime v pomeru 75-25% na trenovaci a validacni"
   ]
  },
  {
   "cell_type": "code",
   "execution_count": 12,
   "metadata": {},
   "outputs": [],
   "source": [
    "data2_train, data2_vali = np.split(data2.sample(frac=1, random_state=1729), \n",
    "                                   [int(0.75 * len(data2))])"
   ]
  },
  {
   "cell_type": "markdown",
   "metadata": {},
   "source": [
    "rozhodl jsem se vyuzit priznaky : trida, pohlavi, vek - ktere podle me budou mit nejvetsi vliv, dale palubu a informace o rodine, jak je videt nize"
   ]
  },
  {
   "cell_type": "code",
   "execution_count": 13,
   "metadata": {},
   "outputs": [],
   "source": [
    "Xdata_train = data2_train[['pclass', 'sex', 'age', 'sibsp', 'parch', 'cabin']]\n",
    "Ydata_train = data2_train['survived']\n",
    "Xdata_vali = data2_vali[['pclass', 'sex', 'age', 'sibsp', 'parch', 'cabin']]\n",
    "Ydata_vali = data2_vali['survived']"
   ]
  },
  {
   "cell_type": "markdown",
   "metadata": {},
   "source": [
    "# Strom"
   ]
  },
  {
   "cell_type": "code",
   "execution_count": 14,
   "metadata": {},
   "outputs": [],
   "source": [
    "from sklearn.tree import DecisionTreeClassifier"
   ]
  },
  {
   "cell_type": "code",
   "execution_count": 15,
   "metadata": {},
   "outputs": [
    {
     "data": {
      "text/plain": [
       "{'class_weight': None,\n",
       " 'criterion': 'gini',\n",
       " 'max_depth': None,\n",
       " 'max_features': None,\n",
       " 'max_leaf_nodes': None,\n",
       " 'min_impurity_decrease': 0.0,\n",
       " 'min_impurity_split': None,\n",
       " 'min_samples_leaf': 1,\n",
       " 'min_samples_split': 2,\n",
       " 'min_weight_fraction_leaf': 0.0,\n",
       " 'presort': False,\n",
       " 'random_state': None,\n",
       " 'splitter': 'best'}"
      ]
     },
     "execution_count": 15,
     "metadata": {},
     "output_type": "execute_result"
    }
   ],
   "source": [
    "dt = DecisionTreeClassifier()\n",
    "dt.get_params()"
   ]
  },
  {
   "cell_type": "code",
   "execution_count": 16,
   "metadata": {},
   "outputs": [
    {
     "data": {
      "text/plain": [
       "DecisionTreeClassifier(class_weight=None, criterion='gini', max_depth=None,\n",
       "                       max_features=None, max_leaf_nodes=None,\n",
       "                       min_impurity_decrease=0.0, min_impurity_split=None,\n",
       "                       min_samples_leaf=1, min_samples_split=2,\n",
       "                       min_weight_fraction_leaf=0.0, presort=False,\n",
       "                       random_state=None, splitter='best')"
      ]
     },
     "execution_count": 16,
     "metadata": {},
     "output_type": "execute_result"
    }
   ],
   "source": [
    "#naucime na nasich datech\n",
    "dt.fit(Xdata_train, Ydata_train)"
   ]
  },
  {
   "cell_type": "markdown",
   "metadata": {},
   "source": [
    "metrics pouzivam na zjisteni uspesnosti naseho modelu"
   ]
  },
  {
   "cell_type": "code",
   "execution_count": 17,
   "metadata": {},
   "outputs": [],
   "source": [
    "import sklearn.metrics as metrics "
   ]
  },
  {
   "cell_type": "markdown",
   "metadata": {},
   "source": [
    "podle toho, jak je presnost rozdilna, zaroven dosti dobra na trenovacich datech, je strom nejspise preuceny"
   ]
  },
  {
   "cell_type": "code",
   "execution_count": 18,
   "metadata": {},
   "outputs": [
    {
     "name": "stdout",
     "output_type": "stream",
     "text": [
      "acur score train : 0.909\n",
      "acur score vali : 0.792\n"
     ]
    }
   ],
   "source": [
    "print('acur score train : {0:.3f}'.format(metrics.accuracy_score(Ydata_train, dt.predict(Xdata_train))))\n",
    "print('acur score vali : {0:.3f}'.format(metrics.accuracy_score(Ydata_vali, dt.predict(Xdata_vali))))"
   ]
  },
  {
   "cell_type": "markdown",
   "metadata": {},
   "source": [
    "rozhodl jsem se trenovat tyto parametry, prootoze si myslim, ze hloubka bude mit na presnost stromu asi nejvetsi vliv, min_samples_split se moc nepovedl, protoze se ukaze, ze defaultni nastaveni je nejlepsi, to same u kriteria, a dalsi z moznych hyperparametru mi neprisli, jako, ze by nas strom nejakym zpusobem vylepsili"
   ]
  },
  {
   "cell_type": "code",
   "execution_count": 19,
   "metadata": {},
   "outputs": [],
   "source": [
    "from sklearn.model_selection import ParameterGrid\n",
    "param_grid = {\n",
    "    'max_depth': range(1,20), \n",
    "    'criterion': ['entropy', 'gini'], \n",
    "    'min_samples_split': range(2,5),\n",
    "}\n",
    "param_comb = ParameterGrid(param_grid)"
   ]
  },
  {
   "cell_type": "code",
   "execution_count": 20,
   "metadata": {},
   "outputs": [],
   "source": [
    "val_acc = []\n",
    "train_acc = []\n",
    "for params in param_comb:\n",
    "    dt = DecisionTreeClassifier(max_depth=params['max_depth'], criterion=params['criterion'], min_samples_split=params['min_samples_split'])\n",
    "    dt.fit(Xdata_train, Ydata_train)\n",
    "    train_acc.append(metrics.accuracy_score(Ydata_train, dt.predict(Xdata_train)))\n",
    "    val_acc.append(metrics.accuracy_score(Ydata_vali, dt.predict(Xdata_vali)))"
   ]
  },
  {
   "cell_type": "markdown",
   "metadata": {},
   "source": [
    "zde uz je videt, ktere hyperparametry se pro nas jevi jako nejlepsi"
   ]
  },
  {
   "cell_type": "code",
   "execution_count": 21,
   "metadata": {},
   "outputs": [],
   "source": [
    "dt_best_params = param_comb[np.argmax(val_acc)]"
   ]
  },
  {
   "cell_type": "markdown",
   "metadata": {},
   "source": [
    "## vysledny strom"
   ]
  },
  {
   "cell_type": "code",
   "execution_count": 22,
   "metadata": {},
   "outputs": [
    {
     "name": "stdout",
     "output_type": "stream",
     "text": [
      "accuracy score (train): 0.861\n",
      "accuracy score (validation): 0.824\n"
     ]
    }
   ],
   "source": [
    "dt = DecisionTreeClassifier(**dt_best_params)\n",
    "dt.fit(Xdata_train, Ydata_train)\n",
    "print('accuracy score (train): {0:.3f}'.format(metrics.accuracy_score(Ydata_train, dt.predict(Xdata_train))))\n",
    "print('accuracy score (validation): {0:.3f}'.format(metrics.accuracy_score(Ydata_vali, dt.predict(Xdata_vali))))"
   ]
  },
  {
   "cell_type": "markdown",
   "metadata": {},
   "source": [
    "# Les"
   ]
  },
  {
   "cell_type": "markdown",
   "metadata": {},
   "source": [
    "prozatim stejny proces jako se stromem"
   ]
  },
  {
   "cell_type": "code",
   "execution_count": 23,
   "metadata": {},
   "outputs": [],
   "source": [
    "from sklearn.ensemble import RandomForestClassifier\n",
    "from sklearn.metrics import accuracy_score"
   ]
  },
  {
   "cell_type": "code",
   "execution_count": 24,
   "metadata": {},
   "outputs": [],
   "source": [
    "rf = RandomForestClassifier()"
   ]
  },
  {
   "cell_type": "code",
   "execution_count": 25,
   "metadata": {},
   "outputs": [
    {
     "data": {
      "text/plain": [
       "{'bootstrap': True,\n",
       " 'class_weight': None,\n",
       " 'criterion': 'gini',\n",
       " 'max_depth': None,\n",
       " 'max_features': 'auto',\n",
       " 'max_leaf_nodes': None,\n",
       " 'min_impurity_decrease': 0.0,\n",
       " 'min_impurity_split': None,\n",
       " 'min_samples_leaf': 1,\n",
       " 'min_samples_split': 2,\n",
       " 'min_weight_fraction_leaf': 0.0,\n",
       " 'n_estimators': 'warn',\n",
       " 'n_jobs': None,\n",
       " 'oob_score': False,\n",
       " 'random_state': None,\n",
       " 'verbose': 0,\n",
       " 'warm_start': False}"
      ]
     },
     "execution_count": 25,
     "metadata": {},
     "output_type": "execute_result"
    }
   ],
   "source": [
    "rf.get_params()"
   ]
  },
  {
   "cell_type": "code",
   "execution_count": 26,
   "metadata": {},
   "outputs": [
    {
     "name": "stderr",
     "output_type": "stream",
     "text": [
      "C:\\Users\\pavel\\Anaconda3\\lib\\site-packages\\sklearn\\ensemble\\forest.py:245: FutureWarning: The default value of n_estimators will change from 10 in version 0.20 to 100 in 0.22.\n",
      "  \"10 in version 0.20 to 100 in 0.22.\", FutureWarning)\n"
     ]
    },
    {
     "data": {
      "text/plain": [
       "RandomForestClassifier(bootstrap=True, class_weight=None, criterion='gini',\n",
       "                       max_depth=None, max_features='auto', max_leaf_nodes=None,\n",
       "                       min_impurity_decrease=0.0, min_impurity_split=None,\n",
       "                       min_samples_leaf=1, min_samples_split=2,\n",
       "                       min_weight_fraction_leaf=0.0, n_estimators=10,\n",
       "                       n_jobs=None, oob_score=False, random_state=None,\n",
       "                       verbose=0, warm_start=False)"
      ]
     },
     "execution_count": 26,
     "metadata": {},
     "output_type": "execute_result"
    }
   ],
   "source": [
    "rf.fit(Xdata_train, Ydata_train)"
   ]
  },
  {
   "cell_type": "markdown",
   "metadata": {},
   "source": [
    "stejny problem s preucenim"
   ]
  },
  {
   "cell_type": "code",
   "execution_count": 27,
   "metadata": {},
   "outputs": [
    {
     "name": "stdout",
     "output_type": "stream",
     "text": [
      "accuracy score (train): 0.892\n",
      "accuracy score (validation): 0.776\n"
     ]
    }
   ],
   "source": [
    "print('accuracy score (train): {0:.3f}'.format(metrics.accuracy_score(Ydata_train, rf.predict(Xdata_train))))\n",
    "print('accuracy score (validation): {0:.3f}'.format(metrics.accuracy_score(Ydata_vali, rf.predict(Xdata_vali))))"
   ]
  },
  {
   "cell_type": "markdown",
   "metadata": {},
   "source": [
    "zde zkousim jeste ladit hyperparametr n_estimators ktery nam udava pocet stromu, ktery les ma"
   ]
  },
  {
   "cell_type": "code",
   "execution_count": 28,
   "metadata": {},
   "outputs": [],
   "source": [
    "param_grid = {\n",
    "    'max_depth': range(1,50), \n",
    "    'criterion': ['entropy', 'gini'],\n",
    "    'n_estimators': range(2,10)\n",
    "}\n",
    "param_comb = ParameterGrid(param_grid)"
   ]
  },
  {
   "cell_type": "code",
   "execution_count": 29,
   "metadata": {},
   "outputs": [],
   "source": [
    "val_acc = []\n",
    "train_acc = []\n",
    "for params in param_comb:\n",
    "    rf = RandomForestClassifier(max_depth=params['max_depth'], criterion=params['criterion'], n_estimators=params['n_estimators'])\n",
    "    rf.fit(Xdata_train, Ydata_train)\n",
    "    train_acc.append(metrics.accuracy_score(Ydata_train, rf.predict(Xdata_train)))\n",
    "    val_acc.append(metrics.accuracy_score(Ydata_vali, rf.predict(Xdata_vali)))"
   ]
  },
  {
   "cell_type": "markdown",
   "metadata": {},
   "source": [
    "takze nejlepsi vysledek jsem dostal pro 4 stromy s maximalni hloubkou 6 za pouziti entropie"
   ]
  },
  {
   "cell_type": "code",
   "execution_count": 30,
   "metadata": {},
   "outputs": [
    {
     "name": "stdout",
     "output_type": "stream",
     "text": [
      "{'n_estimators': 3, 'max_depth': 35, 'criterion': 'entropy'}\n",
      "0.832\n",
      "0.88\n"
     ]
    }
   ],
   "source": [
    "best_params = param_comb[np.argmax(val_acc)]\n",
    "print(best_params)\n",
    "print(val_acc[np.argmax(val_acc)])\n",
    "print(train_acc[np.argmax(val_acc)])"
   ]
  },
  {
   "cell_type": "markdown",
   "metadata": {},
   "source": [
    "## Vysledny les"
   ]
  },
  {
   "cell_type": "code",
   "execution_count": 31,
   "metadata": {},
   "outputs": [
    {
     "name": "stdout",
     "output_type": "stream",
     "text": [
      "accuracy score (train): 0.873\n",
      "accuracy score (validation): 0.768\n"
     ]
    }
   ],
   "source": [
    "rf = RandomForestClassifier(**best_params)\n",
    "rf.fit(Xdata_train, Ydata_train)\n",
    "print('accuracy score (train): {0:.3f}'.format(metrics.accuracy_score(Ydata_train, rf.predict(Xdata_train))))\n",
    "print('accuracy score (validation): {0:.3f}'.format(metrics.accuracy_score(Ydata_vali, rf.predict(Xdata_vali))))"
   ]
  },
  {
   "cell_type": "markdown",
   "metadata": {},
   "source": [
    "# AdaBoost"
   ]
  },
  {
   "cell_type": "code",
   "execution_count": 32,
   "metadata": {},
   "outputs": [],
   "source": [
    "from sklearn.ensemble import AdaBoostClassifier"
   ]
  },
  {
   "cell_type": "code",
   "execution_count": 33,
   "metadata": {},
   "outputs": [],
   "source": [
    "clf = AdaBoostClassifier(n_estimators=100, random_state=0)"
   ]
  },
  {
   "cell_type": "code",
   "execution_count": 34,
   "metadata": {},
   "outputs": [
    {
     "data": {
      "text/plain": [
       "{'algorithm': 'SAMME.R',\n",
       " 'base_estimator': None,\n",
       " 'learning_rate': 1.0,\n",
       " 'n_estimators': 100,\n",
       " 'random_state': 0}"
      ]
     },
     "execution_count": 34,
     "metadata": {},
     "output_type": "execute_result"
    }
   ],
   "source": [
    "clf.get_params()"
   ]
  },
  {
   "cell_type": "code",
   "execution_count": 35,
   "metadata": {},
   "outputs": [
    {
     "data": {
      "text/plain": [
       "AdaBoostClassifier(algorithm='SAMME.R', base_estimator=None, learning_rate=1.0,\n",
       "                   n_estimators=100, random_state=0)"
      ]
     },
     "execution_count": 35,
     "metadata": {},
     "output_type": "execute_result"
    }
   ],
   "source": [
    "clf.fit(Xdata_train, Ydata_train)"
   ]
  },
  {
   "cell_type": "markdown",
   "metadata": {},
   "source": [
    "tohle nevypada zle, ale uspesnost nic moc"
   ]
  },
  {
   "cell_type": "code",
   "execution_count": 36,
   "metadata": {},
   "outputs": [
    {
     "name": "stdout",
     "output_type": "stream",
     "text": [
      "accuracy score (train): 0.801\n",
      "accuracy score (validation): 0.780\n"
     ]
    }
   ],
   "source": [
    "print('accuracy score (train): {0:.3f}'.format(metrics.accuracy_score(Ydata_train, clf.predict(Xdata_train))))\n",
    "print('accuracy score (validation): {0:.3f}'.format(metrics.accuracy_score(Ydata_vali, clf.predict(Xdata_vali))))"
   ]
  },
  {
   "cell_type": "code",
   "execution_count": 37,
   "metadata": {},
   "outputs": [],
   "source": [
    "param_grid = {\n",
    "    'n_estimators': range(60,100,3),\n",
    "    'learning_rate': [0.1, 0.5, 1]\n",
    "}\n",
    "\n",
    "param_comb = ParameterGrid(param_grid)\n",
    "\n",
    "val_acc = []\n",
    "train_acc = []\n",
    "for params in param_comb:\n",
    "    clf = AdaBoostClassifier(n_estimators=params['n_estimators'], learning_rate=params['learning_rate'])\n",
    "    clf.fit(Xdata_train, Ydata_train)\n",
    "    train_acc.append(metrics.accuracy_score(Ydata_train, clf.predict(Xdata_train)))\n",
    "    val_acc.append(metrics.accuracy_score(Ydata_vali, clf.predict(Xdata_vali)))"
   ]
  },
  {
   "cell_type": "markdown",
   "metadata": {},
   "source": [
    "bohuzel je videt, ze se uspesnost moc nezvedla"
   ]
  },
  {
   "cell_type": "code",
   "execution_count": 38,
   "metadata": {},
   "outputs": [
    {
     "name": "stdout",
     "output_type": "stream",
     "text": [
      "{'n_estimators': 75, 'learning_rate': 0.5}\n",
      "0.804\n",
      "0.7893333333333333\n"
     ]
    }
   ],
   "source": [
    "best_params = param_comb[np.argmax(val_acc)]\n",
    "print(best_params)\n",
    "print(val_acc[np.argmax(val_acc)])\n",
    "print(train_acc[np.argmax(val_acc)])"
   ]
  },
  {
   "cell_type": "markdown",
   "metadata": {},
   "source": [
    "## Vysledny AdaBoost"
   ]
  },
  {
   "cell_type": "code",
   "execution_count": 39,
   "metadata": {},
   "outputs": [
    {
     "name": "stdout",
     "output_type": "stream",
     "text": [
      "accuracy score (train): 0.789\n",
      "accuracy score (validation): 0.804\n"
     ]
    }
   ],
   "source": [
    "clf =  AdaBoostClassifier(**best_params)\n",
    "clf.fit(Xdata_train, Ydata_train)\n",
    "print('accuracy score (train): {0:.3f}'.format(metrics.accuracy_score(Ydata_train, clf.predict(Xdata_train))))\n",
    "print('accuracy score (validation): {0:.3f}'.format(metrics.accuracy_score(Ydata_vali, clf.predict(Xdata_vali))))"
   ]
  },
  {
   "cell_type": "markdown",
   "metadata": {},
   "source": [
    "Nejlepe tedy dopadl strom o 2%"
   ]
  },
  {
   "cell_type": "markdown",
   "metadata": {},
   "source": [
    "# KNN"
   ]
  },
  {
   "cell_type": "code",
   "execution_count": 40,
   "metadata": {},
   "outputs": [],
   "source": [
    "from sklearn.neighbors import KNeighborsClassifier\n",
    "from sklearn.preprocessing import MinMaxScaler"
   ]
  },
  {
   "cell_type": "code",
   "execution_count": 41,
   "metadata": {},
   "outputs": [],
   "source": [
    "knn = KNeighborsClassifier()"
   ]
  },
  {
   "cell_type": "code",
   "execution_count": 42,
   "metadata": {},
   "outputs": [
    {
     "data": {
      "text/plain": [
       "{'algorithm': 'auto',\n",
       " 'leaf_size': 30,\n",
       " 'metric': 'minkowski',\n",
       " 'metric_params': None,\n",
       " 'n_jobs': None,\n",
       " 'n_neighbors': 5,\n",
       " 'p': 2,\n",
       " 'weights': 'uniform'}"
      ]
     },
     "execution_count": 42,
     "metadata": {},
     "output_type": "execute_result"
    }
   ],
   "source": [
    "knn.get_params()"
   ]
  },
  {
   "cell_type": "code",
   "execution_count": 43,
   "metadata": {},
   "outputs": [
    {
     "name": "stdout",
     "output_type": "stream",
     "text": [
      "accuracy score (train): 0.797\n",
      "accuracy score (validation): 0.728\n"
     ]
    }
   ],
   "source": [
    "knn.fit(Xdata_train, Ydata_train)\n",
    "print('accuracy score (train): {0:.3f}'.format(metrics.accuracy_score(Ydata_train, knn.predict(Xdata_train))))\n",
    "print('accuracy score (validation): {0:.3f}'.format(metrics.accuracy_score(Ydata_vali, knn.predict(Xdata_vali))))"
   ]
  },
  {
   "cell_type": "code",
   "execution_count": 44,
   "metadata": {},
   "outputs": [],
   "source": [
    "param_grid = {\n",
    "    'n_neighbors': range(1,10),\n",
    "    'p': [1, 2, 3]\n",
    "}\n",
    "\n",
    "param_comb = ParameterGrid(param_grid)\n",
    "\n",
    "val_acc = []\n",
    "train_acc = []\n",
    "for params in param_comb:\n",
    "    knn = KNeighborsClassifier(n_neighbors=params['n_neighbors'], p=params['p'])\n",
    "    knn.fit(Xdata_train, Ydata_train)\n",
    "    train_acc.append(metrics.accuracy_score(Ydata_train, knn.predict(Xdata_train)))\n",
    "    val_acc.append(metrics.accuracy_score(Ydata_vali, knn.predict(Xdata_vali)))"
   ]
  },
  {
   "cell_type": "code",
   "execution_count": 45,
   "metadata": {},
   "outputs": [],
   "source": [
    "best_params = param_comb[np.argmax(val_acc)]"
   ]
  },
  {
   "cell_type": "code",
   "execution_count": 46,
   "metadata": {},
   "outputs": [
    {
     "name": "stdout",
     "output_type": "stream",
     "text": [
      "accuracy score (train): 0.796\n",
      "accuracy score (validation): 0.764\n"
     ]
    }
   ],
   "source": [
    "knn = KNeighborsClassifier(**best_params)\n",
    "knn.fit(Xdata_train, Ydata_train)\n",
    "print('accuracy score (train): {0:.3f}'.format(metrics.accuracy_score(Ydata_train, knn.predict(Xdata_train))))\n",
    "print('accuracy score (validation): {0:.3f}'.format(metrics.accuracy_score(Ydata_vali, knn.predict(Xdata_vali))))"
   ]
  },
  {
   "cell_type": "code",
   "execution_count": 47,
   "metadata": {},
   "outputs": [
    {
     "name": "stdout",
     "output_type": "stream",
     "text": [
      "accuracy score (train): 0.803\n",
      "accuracy score (validation): 0.804\n"
     ]
    }
   ],
   "source": [
    "scaler = MinMaxScaler()\n",
    "Xtrain_scaled = scaler.fit_transform(Xdata_train)\n",
    "\n",
    "Xval_scaled = scaler.transform(Xdata_vali)\n",
    "\n",
    "param_grid = {\n",
    "    'n_neighbors': range(3,7),\n",
    "    'p': [1, 2]\n",
    "}\n",
    "\n",
    "param_comb = ParameterGrid(param_grid)\n",
    "\n",
    "val_acc = []\n",
    "train_acc = []\n",
    "for params in param_comb:\n",
    "    knn = KNeighborsClassifier(n_neighbors=params['n_neighbors'], p=params['p'])\n",
    "    knn.fit(Xtrain_scaled, Ydata_train)\n",
    "    train_acc.append(metrics.accuracy_score(Ydata_train, knn.predict(Xtrain_scaled)))\n",
    "    val_acc.append(metrics.accuracy_score(Ydata_vali, knn.predict(Xval_scaled)))\n",
    "\n",
    "best_params = param_comb[np.argmax(val_acc)]\n",
    "\n",
    "knn = KNeighborsClassifier(**best_params)\n",
    "knn.fit(Xtrain_scaled, Ydata_train)\n",
    "print('accuracy score (train): {0:.3f}'.format(metrics.accuracy_score(Ydata_train, knn.predict(Xtrain_scaled))))\n",
    "print('accuracy score (validation): {0:.3f}'.format(metrics.accuracy_score(Ydata_vali, knn.predict(Xval_scaled))))"
   ]
  },
  {
   "cell_type": "markdown",
   "metadata": {},
   "source": [
    "## Vysledny KNN"
   ]
  },
  {
   "cell_type": "code",
   "execution_count": 48,
   "metadata": {},
   "outputs": [
    {
     "name": "stdout",
     "output_type": "stream",
     "text": [
      "accuracy score (train): 0.803\n",
      "accuracy score (validation): 0.804\n"
     ]
    }
   ],
   "source": [
    "knn = KNeighborsClassifier(**best_params)\n",
    "knn.fit(Xtrain_scaled, Ydata_train)\n",
    "print('accuracy score (train): {0:.3f}'.format(metrics.accuracy_score(Ydata_train, knn.predict(Xtrain_scaled))))\n",
    "print('accuracy score (validation): {0:.3f}'.format(metrics.accuracy_score(Ydata_vali, knn.predict(Xval_scaled))))"
   ]
  },
  {
   "cell_type": "markdown",
   "metadata": {},
   "source": [
    "### to neni spatne ale strom byl stale lepsi"
   ]
  },
  {
   "cell_type": "markdown",
   "metadata": {},
   "source": [
    "# cross-validation"
   ]
  },
  {
   "cell_type": "code",
   "execution_count": 49,
   "metadata": {},
   "outputs": [],
   "source": [
    "from sklearn.model_selection import KFold, LeaveOneOut\n",
    "import math"
   ]
  },
  {
   "cell_type": "code",
   "execution_count": 50,
   "metadata": {},
   "outputs": [],
   "source": [
    "n_splits = 5"
   ]
  },
  {
   "cell_type": "code",
   "execution_count": 51,
   "metadata": {},
   "outputs": [],
   "source": [
    "random_seed = 12247112"
   ]
  },
  {
   "cell_type": "code",
   "execution_count": 53,
   "metadata": {},
   "outputs": [],
   "source": [
    "err = []\n",
    "comb_err = []\n",
    "    # Pomocí KFold rozdělíme index na trénovací a validační\n",
    "for train, val in KFold(n_splits=n_splits, random_state=random_seed).split(data2.index):\n",
    "    \n",
    "    \n",
    "    Xtrain = data2[data2.index.isin(train)][['pclass', 'sex', 'age', 'sibsp', 'parch', 'cabin']]\n",
    "    ytrain = data2[data2.index.isin(train)]['survived']\n",
    "    Xval = data2[data2.index.isin(val)][['pclass', 'sex', 'age', 'sibsp', 'parch', 'cabin']]\n",
    "    yval = data2[data2.index.isin(val)]['survived']\n",
    "    \n",
    "    # Natrénujeme model a změříme validační chybu (RMSLE)\n",
    "    dt = DecisionTreeClassifier(**dt_best_params)\n",
    "    dt.fit(Xtrain, ytrain)\n",
    "    comb_err.append(np.sqrt(metrics.mean_squared_error(yval, dt.predict(Xval))))\n",
    "        \n",
    "# Zprůměrujeme chybu\n",
    "err.append(np.mean(comb_err))"
   ]
  },
  {
   "cell_type": "code",
   "execution_count": 54,
   "metadata": {},
   "outputs": [
    {
     "name": "stdout",
     "output_type": "stream",
     "text": [
      "Best RMSLE:  0.4839712549395271\n"
     ]
    }
   ],
   "source": [
    "best_index = np.argmin(err)\n",
    "best_err = err[best_index]\n",
    "print('Best RMSLE: ', best_err)"
   ]
  },
  {
   "cell_type": "markdown",
   "metadata": {},
   "source": [
    "# vysledek"
   ]
  },
  {
   "cell_type": "code",
   "execution_count": null,
   "metadata": {},
   "outputs": [],
   "source": [
    "evaluation = pd.read_csv('evaluation.csv')"
   ]
  },
  {
   "cell_type": "markdown",
   "metadata": {},
   "source": [
    "data je potreba transformovat jako puvodni na kterych se model ucil"
   ]
  },
  {
   "cell_type": "code",
   "execution_count": null,
   "metadata": {},
   "outputs": [],
   "source": [
    "evalu = evaluation[['pclass', 'sex', 'age', 'sibsp', 'parch', 'cabin']]"
   ]
  },
  {
   "cell_type": "code",
   "execution_count": null,
   "metadata": {},
   "outputs": [],
   "source": [
    "evalu['sex'] = evalu['sex'].astype('category').cat.codes\n",
    "evalu['cabin'] = evalu['cabin'].str.slice(stop=1)\n",
    "evalu['cabin'] = evalu['cabin'].astype('category').cat.codes\n",
    "evalu = evalu.replace(np.nan, -1)"
   ]
  },
  {
   "cell_type": "code",
   "execution_count": null,
   "metadata": {},
   "outputs": [],
   "source": [
    "predict = dt.predict(evalu)"
   ]
  },
  {
   "cell_type": "code",
   "execution_count": null,
   "metadata": {},
   "outputs": [],
   "source": [
    "evaluation['predict'] = predict "
   ]
  },
  {
   "cell_type": "code",
   "execution_count": null,
   "metadata": {},
   "outputs": [],
   "source": [
    "results = evaluation[['ID', 'predict']]"
   ]
  },
  {
   "cell_type": "code",
   "execution_count": null,
   "metadata": {},
   "outputs": [],
   "source": [
    "results.to_csv('results.csv',index=False)"
   ]
  },
  {
   "cell_type": "code",
   "execution_count": null,
   "metadata": {},
   "outputs": [],
   "source": []
  }
 ],
 "metadata": {
  "kernelspec": {
   "display_name": "Python 3",
   "language": "python",
   "name": "python3"
  },
  "language_info": {
   "codemirror_mode": {
    "name": "ipython",
    "version": 3
   },
   "file_extension": ".py",
   "mimetype": "text/x-python",
   "name": "python",
   "nbconvert_exporter": "python",
   "pygments_lexer": "ipython3",
   "version": "3.7.3"
  }
 },
 "nbformat": 4,
 "nbformat_minor": 4
}
